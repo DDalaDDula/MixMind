{
 "cells": [
  {
   "cell_type": "code",
   "execution_count": null,
   "metadata": {},
   "outputs": [],
   "source": [
    "import pandas as pd"
   ]
  },
  {
   "cell_type": "code",
   "execution_count": null,
   "metadata": {},
   "outputs": [],
   "source": [
    "kitsch = ['Liz', '최고주가들만 파트 또 많이 넣었네ㅋㅋㅋㅋ리즈, 레이는 그냥 최고주가가 스스로 되는 수 밖에 없으려나ㅋㅋㅋㅋㅋ스타쉽 징하네 진짜ㅋㅋㅋㅋㅋ', 'Liz deserves more lines..!! why is starship unfair to Liz??!!', 'STARSHİP!!! GİVE MORE LİNE FOR OUR LİZ!!!!', 'what does  it mean?', \"Can someone inform me what a 'kitsch' is?😂\", 'IVE愛してる\\U0001faf6', 'リズ覚醒しててすき！！', 'What a great song', 'Full Album on April 10th!!!!!', \"A music video literally never angered me more. I love these girls and it's no fault of them, but what the label is doing to this group is so shameful. Poor Liz got no screen time or lines in the song. I repeatedly saw the same girls over and over in this video while she was hidden. They couldn't try any harder to hide her, It's horrible. Someone pick this girl up under a new group so she can be allowed to shine! I'm so tired of certain girls in this group being so praised by the label while Liz is treated like a background character. It's one thing for fandoms to have favorites, but for a label to and make it so obvious is messed up. It's not even like she's bad, her voice is wonderful, she's beautiful inside and out, and her performance skills are great. She knows how to do her job! To be treated like a wall because you don't fit your labels beauty standard is disgusting. They should drop her from the label if they don't like her instead of suppressing her so she can go elsewhere. The song is great, really cool video, and the girls look and sound beautiful, but it's not fair that one of their members is treated so poorly every freaking song/performance.\", '41.038', 'めっちゃ良い^^', 'so unfair, Liz deserves more😔', '리즈 파트 무슨 일이야... 장난하지 말고;;', '리즈는 왜 한번만 불러요?', '원영이 보컬이 듣기 편안한 소리구나!\\n비음빼니까 너무 좋다. 이서도 비음을 좀 빼야될듯', '처음엔  뭐지  했는데\\n계속 들으니까 좋아지는 노래', 'Rei slayed her parts', '41,015,111 M congrats IVE!!!', 'Keren', 'Very nice song', '好き', 'holy bang bang bang❤', 'They just dropped the concept photos!', 'Ni YouTube bener\" ya 😢 udh cape\" streaming malah di apus mulu view nya 💔', 'starship distribute lines based on popularity, liz got blonde hair and opening lines as soon as she debuted meaning that starship wanted to popularize her, but obviously she took that for granted', 'I much prefer this group to New Jeans. IVE does music right.', 'yt don´t delete ive views??', 'épica', 'ame esta canción', \"Amazing as always\\nI'm so into this song! Let's go 45M\", '이서 너무 예쁘다', 'OOTD BITHC OOTD!!!!!!!', 'Nos estan eliminando vistas ,por eso no avanzamos \\n      P*TO  YOUTUBE (con todas las ganas de ofender , pero a la ves no XD)', 'visuaaaalll love', '나만 뮤비 구리게 느껴지나? 러브 다이브 같은 거 보고 싶은데', '매일 듣고 있어요\\n노래 너무 좋다', \"We can't deny wonyoung's visual is a wow factor\", '0:07 ポニテウォニョンビジュ良すぎ', 'They knew Liz would slay if she had more lines', '잘 보고 들었습니다.', 'うわーまた来たよ神曲', 'yknow what this sounds lie? soty', 'wake up in the morning', 'I dunno but this song such a downgrade for me... Eleven and Love Dive still in my heart, After Like is 50:50', 'Starship do it so good I know what do u do like that for liz😂', \"788k like >40m>ads<flop 😅😅😅they're only popular in Korean digital music\", 'Liz got me', 'Ya estaba en 41M youtube...😡', 'Están eliminando vistas :/', \"40M again!! YouTube! Stop it's 41M but YouTube keeps deleting it\", \"The music is quite addicted and the scene is stunning too,however,the transition of the mv seems a little bit orderless......It's kind of confusion.\", 'lets go dive!', 'felt bad for liz', 'The chorus', 'Is Liz leaving Ive?', 'love this song!!!😍😍😍', 'Epic track.... all IVE tracks are epic', 'Liz ❤', 'woonyoung !!!! <3', '今年もIVEの年にするぞー！', '今回のmvも最高', 'ya me da miedo que todas las canciones de ive sean buenas', 'The fact that youtube kept deleting our views... we could have easily passed 45 mil by now 🙄', '41.023', 'REI ROSITA NUNCA T VAYAS', 'go', 'Finalmente este grupito demostrando su pobre popularidad con este MV llamado chish que sacaron.\\nUna vergueza de numeros.\\nFracaso.', '장원영 개이쁘다!!!!!!!!!!!❤❤❤', '이 노래 리즈 음색 듣고,깜짝 놀랬었는데,제 딸이 한파트라고 하더군요.\\n그 얘기듣고,너무 놀랬어요.\\n한파트라도  처음들었던 제 귀엔 제일 꽂혔네요~', '그리고 매크로 바이럴 댓글이라 지들 새끼 아이디만 답글으루달수 있게 조작해놓음 그러다보니 죄다 영어임 아이브가 그렇게 해외에서 인기가 있었다고', 'go dive!', 'Can we have a 100 hours loop of Liz part please', '이거봐라 쿠키 달고 아이브 홍보하러 다니는거....이런게 바로 바이럴 주작이지 아이브=주작그룹', '21th PERFECT ALL KILL\\nKitsch – Update : #1 MelOn (=) #1 FLO (=) #1 Genie (+1) #1 Bugs (=) #1 Vibe (=) #1 Youtube (=) #1 Spotify (=) #1 Apple (=) 🔥🤭', '41 M !!! LETS GO 50 M 🐦', \"PAK! Well deserved. I just can't stop myself from watching this 100x times a day lol\", '노래대박이다❤❤❤❤❤', '20th PERFECT ALL KILL\\nKitsch – Update : #1 MelOn (=) #1 FLO (=) #1 Genie (+1) #1 Bugs (=)\\n😎☝️😎☝️😎☝️😎☝️😎☝️😎☝️', \"_From highly-anticipated returns to can't-miss debut releases, check out 15 albums dropping this April from Linkin Park, IVE, Rae Sremmurd, and more_\\n\\n- Grammy Award News\", '노래 중독성있다', 'NewJeans win IVE😡😡😡😡😡😡😡😡😡😡💚💚💚💚😡😡😡😡😡😡😡😡😡😡😡😡😡😡😡😡🤣🤣🤣🤣🤣🤣🤣🤣🤣🤣🤣😡🤣🤣😡😡🤣😡😡😡😡😡😡😡😡😡😡😡😡😡😡😡😡😡😡😡😡😡😡😡😡😡😡😡😡😡😡😡😡😡😡😡😡😡😡😘😡😡😡😡😡😡😡😡😡😡😡😡😡😡😡😡😡😡😡😡😡😡😡😡😡😡😡😡😡😡😡😡😡😡😡😡😡😡😡😡😡😡😡😡😡😡😡😡😡😡😡😡😡😡😡😡😡😡😡😡😡😡😡😡😡😡😡😡😡😡😡😡😡', 'Kakao/Melon/IVE 🎉🎉🎉🎉🎉every time IVE can be No.1🎉🎉🎉🎉🎉🎉🎉🎉🎉🎉🎉🎉🎉🎉🎉🎉🎉🎉🎉🎉🎉🎉🎉🎉🎉🎉🎉🎉🎉🎉🎉🎉🎉🎉🎉🎉🎉🎉🎉🎉🎉🎉🎉🎉🎉🎉🎉🎉🎉🎉🎉🎉🎉🎉🎉🎉🎉🎉🎉🎉🎉🎉🎉🎉🎉🎉🎉🎉🎉🎉🎉🎉🎉🎉🎉🎉🎉🎉🎉🎉🎉🎉🎉🎉🎉🎉🎉🎉🎉🎉🎉🎉🎉🎉🎉🎉🎉🎉🎉🎉🎉🎉🎉🎉🎉🎉🎉🎉🎉🎉🎉🎉🎉🎉🎉🎉🎉🎉🎉🎉🎉🎉🎉🎉🎉🎉🎉🎉🎉🎉🎉🎉🎉🎉🎉🎉🎉🎉🎉🎉🎉🎉🎉🎉', '2:53 is my favorite part in this mv', 'did liz nasty', 'NewJeans win IVE😡😡😡😡😡😡😡😡😡😡😡😡😡😡😡😡😡😡😡😡😡😡😡😡😡😡😡😡😡😡😡😡😡😡😡😡😡😡😡😡😡😡😡😡😡😡😡😡😡😡😡😡😡😡😡😡😡😡😡😡😡😡😡😡😡😡😡😡😡😡😡😡😡😡😡😡😡😡😡😡😡😡😡😡😡😡😡😡😡😡😡😡😡😡😡😡😡😡😡😡😘😘😘😡😡😡😡😡😡😡😡😡😡😡😡', '조회수 4천1백만 눈앞...!', '뮤비색감이랑 의상 진짜 잘 뽑았다\\n스타쉽이 배운 변태', '메인 타이틀에는 리즈 파트가 많길......😮\\u200d💨', '메보가 메보가 아닌 그룹', \"20th PERFECT ALL KILL\\n 'Kitsch' – 10AM KST: \\n\\n#1 MelOn (=) \\n#1 FLO (=) \\n#1 Genie (=) \\n#1 Bugs (=) \\n\\nMelOn ULs: 398,081 (+1,163)\", 'malarda', '리즈 파트가 너무 없어요ㅠㅜ', '20th PERFECT ALL KILL\\nKitsch – Update : #1 MelOn (=) #1 FLO (=) #1 Genie (+1) #1 Bugs (=)\\n😎☝️😎☝️😎☝️😎☝️😎☝️😎☝️', \"Liz's part is so short but sweet , looking forward to the full new album. I hope everyone has their proper line distribution.\", 'YUH YUH YUH YUH YUH YUH YUH', 'It looks like Liz is not part of the group anymore.', 'I LOVE REI', 'THEIR CONFIDENCE >>>']"
   ]
  },
  {
   "cell_type": "code",
   "execution_count": null,
   "metadata": {},
   "outputs": [],
   "source": [
    "# fine-tuning 위한 review 데이터\n",
    "train = pd.read_csv('https://raw.githubusercontent.com/e9t/nsmc/master/ratings_train.txt', header=0, delimiter='\\t' ,quoting=3)[:50000]"
   ]
  },
  {
   "cell_type": "code",
   "execution_count": null,
   "metadata": {},
   "outputs": [],
   "source": [
    "train['document'].str.len().max()"
   ]
  },
  {
   "cell_type": "code",
   "execution_count": null,
   "metadata": {},
   "outputs": [],
   "source": [
    "train.dropna(inplace=True)\n",
    "train.drop_duplicates(inplace=True)"
   ]
  },
  {
   "cell_type": "code",
   "execution_count": null,
   "metadata": {},
   "outputs": [],
   "source": [
    "from emotion_analysis import *"
   ]
  },
  {
   "cell_type": "code",
   "execution_count": null,
   "metadata": {},
   "outputs": [],
   "source": [
    "vocab_path = '/home/cshoon036/MixMind/mm_bert/korean/vocab_9class_500.csv'\n",
    "stopwords_path = '/home/cshoon036/MixMind/mm_bert/korean/stopwords.txt'\n",
    "\n",
    "vocab = load_vocab(vocab_path, stopwords_path)"
   ]
  },
  {
   "cell_type": "code",
   "execution_count": null,
   "metadata": {},
   "outputs": [],
   "source": [
    "import os\n",
    "import re\n",
    "import numpy as np\n",
    "from tqdm import tqdm\n",
    "\n",
    "import tensorflow as tf\n",
    "from transformers import *\n",
    "\n",
    "from tensorflow.keras.preprocessing.sequence import pad_sequences\n",
    "from tensorflow.keras.callbacks import EarlyStopping, ModelCheckpoint\n",
    "\n",
    "import matplotlib.pyplot as plt\n",
    "\n",
    "from sklearn.model_selection import train_test_split"
   ]
  },
  {
   "cell_type": "code",
   "execution_count": null,
   "metadata": {},
   "outputs": [],
   "source": [
    "tf.random.set_seed(1234)\n",
    "np.random.seed(1234)\n",
    "\n",
    "BATCH_SIZE = 16\n",
    "NUM_EPOCHS = 50\n",
    "VALID_SPLIT = 0.25"
   ]
  },
  {
   "cell_type": "code",
   "execution_count": null,
   "metadata": {},
   "outputs": [],
   "source": [
    "# train_data = train_data[:1000] # for test\n",
    "\n",
    "input_ids = []\n",
    "attention_masks = []\n",
    "token_type_ids = []\n",
    "train_data_labels = []\n",
    "\n",
    "for train_sent, train_label in tqdm(zip(train[\"document\"], train[\"label\"]), total=len(train)):\n",
    "    try:\n",
    "        input_id, attention_mask, token_type_id = bert_tokenizer(train_sent)\n",
    "        \n",
    "        input_ids.append(input_id)\n",
    "        attention_masks.append(attention_mask)\n",
    "        token_type_ids.append(token_type_id)\n",
    "        train_data_labels.append(train_label)\n",
    "\n",
    "    except Exception as e:\n",
    "        print(e)\n",
    "        print(train_sent)\n",
    "        pass\n",
    "\n",
    "train_sentence_input_ids = np.array(input_ids, dtype=int)\n",
    "train_sentence_attention_masks = np.array(attention_masks, dtype=int)\n",
    "train_sentence_type_ids = np.array(token_type_ids, dtype=int)\n",
    "train_sentence_inputs = (train_sentence_input_ids, train_sentence_attention_masks, train_sentence_type_ids)\n",
    "\n",
    "train_data_labels = np.asarray(train_data_labels, dtype=np.int32) #레이블 토크나이징 리스트\n",
    "\n",
    "print(\"# sents: {}, # labels: {}\".format(len(train_sentence_input_ids), len(train_data_labels)))"
   ]
  },
  {
   "cell_type": "code",
   "execution_count": null,
   "metadata": {},
   "outputs": [],
   "source": [
    "input_id = train_sentence_input_ids[1]\n",
    "attention_mask = train_sentence_attention_masks[1]\n",
    "token_type_id = train_sentence_type_ids[1]\n",
    "\n",
    "print(input_id)\n",
    "print(attention_mask)\n",
    "print(token_type_id)\n",
    "print(tokenizer.decode(input_id))"
   ]
  },
  {
   "cell_type": "code",
   "execution_count": null,
   "metadata": {},
   "outputs": [],
   "source": [
    "sentiment_model = TFBertClassifier(model_name='bert-base-multilingual-cased',\n",
    "                                  dir_path='bert_ckpt')"
   ]
  },
  {
   "cell_type": "code",
   "execution_count": null,
   "metadata": {},
   "outputs": [],
   "source": [
    "# Rectified Adam 옵티마이저 사용\n",
    "#!pip install tensorflow_addons\n",
    "import tensorflow_addons as tfa\n",
    "# 총 batch size * 4 epoch = 2344 * 4\n",
    "opt = tfa.optimizers.RectifiedAdam(lr=5.0e-5, total_steps = 2344*4, warmup_proportion=0.1, min_lr=1e-5, epsilon=1e-08, clipnorm=1.0)\n",
    "loss = tf.keras.losses.BinaryCrossentropy(from_logits=True)\n",
    "sentiment_model.compile(optimizer=opt, loss=loss, metrics=['accuracy'])"
   ]
  },
  {
   "cell_type": "code",
   "execution_count": null,
   "metadata": {},
   "outputs": [],
   "source": [
    "model_name = \"tf2_bert_sentiment\"\n",
    "\n",
    "# overfitting을 막기 위한 ealrystop 추가\n",
    "earlystop_callback = EarlyStopping(monitor='val_accuracy', min_delta=0.0001,patience=3)\n",
    "# min_delta: the threshold that triggers the termination (acc should at least improve 0.0001)\n",
    "# patience: no improvment epochs (patience = 1, 1번 이상 상승이 없으면 종료)\\\n",
    "\n",
    "checkpoint_path = os.path.join(\"./\", model_name, 'best_model')\n",
    "checkpoint_dir = os.path.dirname(checkpoint_path)\n",
    "\n",
    "# Create path if exists\n",
    "if os.path.exists(checkpoint_dir):\n",
    "    print(\"{} -- Folder already exists \\n\".format(checkpoint_dir))\n",
    "else:\n",
    "    os.makedirs(checkpoint_dir, exist_ok=True)\n",
    "    print(\"{} -- Folder create complete \\n\".format(checkpoint_dir))\n",
    "    \n",
    "cp_callback = ModelCheckpoint(\n",
    "    checkpoint_path, monitor='val_loss', verbose=1, mode='min' ,save_best_only=True , save_weight_only=True)\n",
    "\n",
    "# 학습과 eval 시작\n",
    "history = sentiment_model.fit(train_sentence_inputs, train_data_labels, epochs=NUM_EPOCHS, batch_size=BATCH_SIZE,\n",
    "                    validation_split = VALID_SPLIT, callbacks=[earlystop_callback, cp_callback])\n",
    "\n",
    "#steps_for_epoch\n",
    "\n",
    "print(history.history)"
   ]
  },
  {
   "cell_type": "code",
   "execution_count": null,
   "metadata": {},
   "outputs": [],
   "source": [
    "sentiment_model.save_weights('korean_binary_sentiment_weights')"
   ]
  },
  {
   "cell_type": "code",
   "execution_count": null,
   "metadata": {},
   "outputs": [],
   "source": [
    "sentiment_model.load_weights('korean_binary_sentiment_weights')"
   ]
  },
  {
   "cell_type": "code",
   "execution_count": null,
   "metadata": {},
   "outputs": [],
   "source": [
    "test = pd.read_csv('https://raw.githubusercontent.com/e9t/nsmc/master/ratings_test.txt', header=0, delimiter='\\t' ,quoting=3)[:10000]"
   ]
  },
  {
   "cell_type": "code",
   "execution_count": null,
   "metadata": {},
   "outputs": [],
   "source": [
    "test.dropna(inplace=True)\n",
    "test.drop_duplicates(inplace=True)"
   ]
  },
  {
   "cell_type": "code",
   "execution_count": null,
   "metadata": {},
   "outputs": [],
   "source": [
    "test_input_ids = []\n",
    "test_attention_masks = []\n",
    "test_token_type_ids = []\n",
    "test_data_labels = []\n",
    "\n",
    "for test_sent, test_label in tqdm(zip(test[\"document\"], test[\"label\"]), total=len(test)):\n",
    "    try:\n",
    "        test_input_id, test_attention_mask, test_token_type_id = bert_tokenizer(test_sent)\n",
    "        \n",
    "        test_input_ids.append(test_input_id)\n",
    "        test_attention_masks.append(test_attention_mask)\n",
    "        test_token_type_ids.append(test_token_type_id)\n",
    "        test_data_labels.append(test_label)\n",
    "\n",
    "    except Exception as e:\n",
    "        print(e)\n",
    "        print(test_sent)\n",
    "        pass\n",
    "\n",
    "test_sentence_input_ids = np.array(test_input_ids, dtype=int)\n",
    "test_sentence_attention_masks = np.array(test_attention_masks, dtype=int)\n",
    "test_sentence_type_ids = np.array(test_token_type_ids, dtype=int)\n",
    "test_sentence_inputs = (test_sentence_input_ids, test_sentence_attention_masks, test_sentence_type_ids)\n",
    "\n",
    "test_data_labels = np.asarray(test_data_labels, dtype=np.int32) #레이블 토크나이징 리스트\n",
    "\n",
    "print(\"# sents: {}, # labels: {}\".format(len(test_sentence_input_ids), len(test_data_labels)))"
   ]
  },
  {
   "cell_type": "code",
   "execution_count": null,
   "metadata": {},
   "outputs": [],
   "source": [
    "predicted_raw = sentiment_model.predict(test_sentence_inputs)\n"
   ]
  },
  {
   "cell_type": "code",
   "execution_count": null,
   "metadata": {},
   "outputs": [],
   "source": [
    "predicted_raw"
   ]
  },
  {
   "cell_type": "code",
   "execution_count": null,
   "metadata": {},
   "outputs": [],
   "source": [
    "y_predicted = np.round(predicted_raw, 0)\n",
    "y_predicted"
   ]
  },
  {
   "cell_type": "code",
   "execution_count": null,
   "metadata": {},
   "outputs": [],
   "source": [
    "from sklearn.metrics import classification_report\n",
    "print(classification_report(test['label'], y_predicted))"
   ]
  },
  {
   "cell_type": "code",
   "execution_count": null,
   "metadata": {},
   "outputs": [],
   "source": [
    "kitsch_kor = []\n",
    "kitsch_kor_join = []\n",
    "\n",
    "p = re.compile('[ㄱ-ㅎ가-힣]+')\n",
    "\n",
    "for i in kitsch:\n",
    "    if p.findall(i):\n",
    "        kitsch_kor.append(p.findall(i))\n",
    "\n",
    "for i in kitsch_kor:\n",
    "    kitsch_kor_join.append(\" \".join(i))\n",
    "\n",
    "kitsch_kor_join"
   ]
  },
  {
   "cell_type": "code",
   "execution_count": null,
   "metadata": {},
   "outputs": [],
   "source": [
    "# 리뷰 개수 -> 나중에 코드 바뀜\n",
    "tot = len(kitsch_kor_join)\n",
    "tot"
   ]
  },
  {
   "cell_type": "code",
   "execution_count": null,
   "metadata": {},
   "outputs": [],
   "source": [
    "song_emotion = {'5359' : 0, '5370': 0, '5361' : 0, '5363' : 0, '5364' : 0, '5365' : 0, '5366' : 0, '5367': 0, '5368' : 0, '5369': 0}\n",
    "\n",
    "for i in kitsch_kor_join:\n",
    "    temp = hybrid_emotion_export_persent(i, sentiment_model, vocab)\n",
    "    for j in temp.keys():\n",
    "        song_emotion[j] += temp[j]\n"
   ]
  },
  {
   "cell_type": "code",
   "execution_count": 41,
   "metadata": {},
   "outputs": [
    {
     "data": {
      "text/plain": [
       "{'5359': 0.222094,\n",
       " '5370': 0.1414185,\n",
       " '5361': 0.1168825,\n",
       " '5363': 0.10513850000000002,\n",
       " '5364': 0.06335099999999999,\n",
       " '5365': 0.058885999999999994,\n",
       " '5366': 0.0545165,\n",
       " '5367': 0.041626,\n",
       " '5368': 0.046086,\n",
       " '5369': 0.0}"
      ]
     },
     "execution_count": 41,
     "metadata": {},
     "output_type": "execute_result"
    }
   ],
   "source": [
    "# kitsch 한글 리뷰의 총 감정 평균\n",
    "for key, val in song_emotion.items():\n",
    "    song_emotion[key] = val/tot\n",
    "\n",
    "song_emotion"
   ]
  }
 ],
 "metadata": {
  "kernelspec": {
   "display_name": "mixmind",
   "language": "python",
   "name": "mixmind"
  },
  "language_info": {
   "codemirror_mode": {
    "name": "ipython",
    "version": 3
   },
   "file_extension": ".py",
   "mimetype": "text/x-python",
   "name": "python",
   "nbconvert_exporter": "python",
   "pygments_lexer": "ipython3",
   "version": "3.8.16"
  },
  "orig_nbformat": 4
 },
 "nbformat": 4,
 "nbformat_minor": 2
}
